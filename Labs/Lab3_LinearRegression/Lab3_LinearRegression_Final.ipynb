{
 "cells": [
  {
   "cell_type": "markdown",
   "metadata": {},
   "source": [
    "### CS 109A/STAT 121A/AC 209A/CSCI E-109A \n",
    "\n",
    "# Lab 3: Linear Regression\n",
    "\n",
    "**Harvard University**<br>\n",
    "**Fall 2017**<br>\n",
    "**Instructors: Pavlos Protopapas, Kevin Rader, Rahul Dave, Margo Levine**\n",
    "\n",
    "---"
   ]
  },
  {
   "cell_type": "markdown",
   "metadata": {},
   "source": [
    "# Table of Contents \n",
    "\n",
    "<ol>\n",
    "<li> Linear regression with a toy  </li>\n",
    "- matrices and math <br>\n",
    "- building a model from scratch<br>\n",
    "- building a model with statsmodel and sklearn\n",
    "<li> Simple linear regression with automobile data </li>\n",
    "<li> Multiple linear regression with automobile data </li>\n",
    "<li> Interpreting results</li>\n",
    "</ol>\n",
    "\n",
    "*This lab maps on to lectures 3, 4, 5 and homework 2.*"
   ]
  },
  {
   "cell_type": "markdown",
   "metadata": {},
   "source": [
    "## Part 1: Linear regression with a toy \n",
    "We first examine a toy problem, focusing our efforts on fitting a linear model to a small dataset with three observations.  Each observation consists of one predictor $x_i$ and one response $y_i$ for $i = 1, 2, 3$,\n",
    "\n",
    "\\begin{equation*}\n",
    "(x , y) = \\{(x_1, y_1), (x_2, y_2), (x_3, y_3)\\}.\n",
    "\\end{equation*}\n",
    "\n",
    "To be very concrete, let's set the values of the predictors and responses.\n",
    "\n",
    "\\begin{equation*}\n",
    "(x , y) = \\{(1, 2), (2, 2), (3, 4)\\}\n",
    "\\end{equation*}\n",
    "\n",
    "There is no line of the form $\\beta_0 + \\beta_1 x = y$ that passes through all three observations, since the data is not collinear.  Thus our aim is to find the line that best fits these observations in the *least-squares sense*, as discussed in lecture.\n",
    "\n",
    "\n",
    "### Matrices and math [10 minutes]\n",
    "\n",
    "Suspending reality, suppose there is a line $\\beta_0 + \\beta_1 x = y$ that passes through all three observations.  Then we'd solve\n",
    "\n",
    "\\begin{eqnarray}\n",
    "\\beta_0 + \\beta_1 &=& 2 \\nonumber \\\\\n",
    "\\beta_0 + 2 \\beta_1 &=& 2 \\nonumber \\\\\n",
    "\\beta_0 + 3 \\beta_1 &=& 4, \\nonumber \\\\\n",
    "\\end{eqnarray}\n",
    "\n",
    "\n",
    "for  $\\beta_0$ and  $\\beta_1$, the intercept and slope of the desired line.  Let's write these equations in matrix form.  The left hand sides of the above equations can be written as\n",
    "\n",
    "<img src=\"images/LHS.pdf\" alt=\"Drawing\" style=\"width: 450px;\"/>\n",
    "\n",
    "while the right hand side is simply the vector\n",
    "\n",
    "\\begin{equation*}Y = \\begin{bmatrix}\n",
    "2 \\\\\n",
    "2 \\\\\n",
    "4 \n",
    "\\end{bmatrix}. \\end{equation*}\n",
    "\n",
    "Thus we have the matrix equation $X \\beta = Y$ where\n",
    "\n",
    "\\begin{equation}\n",
    "X = \\begin{bmatrix}\n",
    "1 & 1\\\\\n",
    "1 & 2\\\\\n",
    "1 & 3\n",
    "\\end{bmatrix}, \\quad\n",
    "\\beta = \\begin{pmatrix}\n",
    "\\beta_0 \\\\\n",
    "\\beta_1 \n",
    "\\end{pmatrix}, \\quad \\mathrm{and} \n",
    "\\quad Y = \\begin{bmatrix}\n",
    "2 \\\\\n",
    "2 \\\\\n",
    "4 \n",
    "\\end{bmatrix}.\n",
    "\\end{equation}\n",
    "\n",
    "To find the best possible solution to this linear system that has no solution, we need to solve the *normal equations*, or\n",
    "\n",
    "\\begin{equation}\n",
    "X^T X \\beta = X^T Y.\n",
    "\\end{equation}\n",
    "\n",
    "If $X^T X$ is invertible then the solution is\n",
    "\n",
    "\\begin{equation}\n",
    "\\beta = (X^T X)^{-1} X^T Y.\n",
    "\\end{equation}\n",
    "\n",
    "\n"
   ]
  },
  {
   "cell_type": "markdown",
   "metadata": {},
   "source": [
    "> **EXERCISE:** What if the toy problem included a second predictor variable?  How would $X, \\beta$, and $Y$ change, if at all?  Would anything else change?  Create a new markdown cell below and explain."
   ]
  },
  {
   "cell_type": "markdown",
   "metadata": {},
   "source": [
    "Normal equation would not change, but $X$ will get another column and $\\beta$ get another row $\\beta_2$."
   ]
  },
  {
   "cell_type": "markdown",
   "metadata": {},
   "source": [
    "### Building a model from scratch [15 minutes]\n",
    "\n",
    "We now solve the normal equations to find the best fit solution to our toy problem.   Note that we have constructed our toy problem so that $X^T X$ is invertible.  Let's import the needed modules.  Note that we've imported statsmodels and sklearn in this below, which we'll use to build regression models."
   ]
  },
  {
   "cell_type": "code",
<<<<<<< HEAD
   "execution_count": 1,
   "metadata": {},
   "outputs": [
    {
     "name": "stderr",
     "output_type": "stream",
     "text": [
      "/anaconda/lib/python3.6/site-packages/statsmodels/compat/pandas.py:56: FutureWarning: The pandas.core.datetools module is deprecated and will be removed in a future version. Please use the pandas.tseries module instead.\n",
      "  from pandas.core import datetools\n"
     ]
    }
   ],
=======
   "execution_count": null,
   "metadata": {
    "collapsed": true
   },
   "outputs": [],
>>>>>>> ab0a4b8b2c99223b3553b7f290763493f03bc040
   "source": [
    "import numpy as np\n",
    "import pandas as pd\n",
    "import seaborn as sns\n",
    "from sklearn import linear_model, datasets\n",
    "import matplotlib.pyplot as plt\n",
    "import statsmodels.api as sm\n",
    "%matplotlib inline"
   ]
  },
  {
   "cell_type": "markdown",
   "metadata": {},
   "source": [
    "The snippets of code below solves the equations using the observed predictors and responses, which we'll call the training data set.  Let's walk through the code."
   ]
  },
  {
   "cell_type": "code",
<<<<<<< HEAD
   "execution_count": 2,
   "metadata": {},
   "outputs": [
    {
     "name": "stdout",
     "output_type": "stream",
     "text": [
      "(3,)\n",
      "(3, 1)\n",
      "(3,)\n",
      "[[ 1.  1.]\n",
      " [ 1.  2.]\n",
      " [ 1.  3.]] (3, 2)\n"
     ]
    }
   ],
=======
   "execution_count": null,
   "metadata": {
    "collapsed": true
   },
   "outputs": [],
>>>>>>> ab0a4b8b2c99223b3553b7f290763493f03bc040
   "source": [
    "#observed predictors\n",
    "x_train = np.array([1, 2, 3])\n",
    "print(x_train.shape)"
   ]
  },
  {
   "cell_type": "code",
   "execution_count": null,
   "metadata": {
    "collapsed": true
   },
   "outputs": [],
   "source": [
    "x_train = x_train.reshape(len(x_train),1)\n",
    "#check dimensions \n",
    "print(x_train.shape)"
   ]
  },
  {
   "cell_type": "code",
   "execution_count": null,
   "metadata": {
    "collapsed": true
   },
   "outputs": [],
   "source": [
    "#observed responses\n",
    "y_train = np.array([2, 2, 4])\n",
    "y_train = y_train.reshape(len(y_train),1)\n",
    "print(y_train.shape)"
   ]
  },
  {
   "cell_type": "code",
   "execution_count": null,
   "metadata": {
    "collapsed": true
   },
   "outputs": [],
   "source": [
    "#build matrix X by concatenating predictors and a column of ones\n",
    "n = x_train.shape[0]\n",
    "ones_col = np.ones((n, 1))\n",
    "X = np.concatenate((ones_col, x_train), axis=1)\n",
    "#check X and dimensions\n",
    "print(X, X.shape)"
   ]
  },
  {
   "cell_type": "code",
   "execution_count": null,
   "metadata": {
    "collapsed": true
   },
   "outputs": [],
   "source": [
    "#matrix X^T X\n",
    "LHS = np.dot(np.transpose(X), X)\n",
    "\n",
    "#matrix X^T Y\n",
    "RHS = np.dot(np.transpose(X), y_train)"
   ]
  },
  {
   "cell_type": "code",
   "execution_count": null,
   "metadata": {
    "collapsed": true
   },
   "outputs": [],
   "source": [
    "#solution beta to normal equations, since LHS is invertible by toy construction\n",
    "betas = np.dot(np.linalg.inv(LHS), RHS)"
   ]
  },
  {
   "cell_type": "code",
   "execution_count": null,
   "metadata": {
    "collapsed": true
   },
   "outputs": [],
   "source": [
    "#intercept beta0\n",
    "beta0 = betas[0]\n",
    "\n",
    "#slope beta1\n",
    "beta1 = betas[1]\n",
    "\n",
    "print(beta0, beta1)"
   ]
  },
  {
   "cell_type": "markdown",
   "metadata": {},
   "source": [
    "> **EXERCISE:** Turn the code from the above cells into a function, called `simple_linear_regression_fit`, that inputs the training data and returns `beta0` and `beta1`.\n",
    "\n",
    "> To do this, copy and paste the code from the above cells below and adjust the code as needed, so that the training data becomes the input and the betas become the output.\n",
    "\n",
    "> Check your function by calling it with the training data from above and printing out the beta values."
   ]
  },
  {
   "cell_type": "code",
<<<<<<< HEAD
   "execution_count": 3,
=======
   "execution_count": null,
>>>>>>> ab0a4b8b2c99223b3553b7f290763493f03bc040
   "metadata": {
    "collapsed": true
   },
   "outputs": [],
   "source": [
    "#your code here\n",
    "def simple_linear_regression_fit(x_train, y_train):\n",
<<<<<<< HEAD
    "    #your code here\n",
    "    #reshape x_train and y_train into a column\n",
    "    x_train = x_train.reshape(-1,1)\n",
    "    y_train = y_train.reshape(-1,1)\n",
    "    \n",
    "    #build matrix X by concatenating predictors and a column of ones\n",
    "    n = x_train.shape[0]\n",
    "    ones_col = np.ones((n, 1))\n",
    "    X = np.concatenate((ones_col, x_train), axis=1)\n",
    "    \n",
    "    #matrix X^T X\n",
    "    LHS = np.dot(np.transpose(X), X)\n",
    "\n",
    "    #matrix X^T Y\n",
    "    RHS = np.dot(np.transpose(X), y_train)\n",
    "\n",
    "    #solution beta to normal equations, since LHS is invertible by toy construction\n",
    "    betas = np.dot(np.linalg.inv(LHS), RHS)\n",
    "\n",
    "    #intercept beta0\n",
    "    beta0 = betas[0]\n",
    "\n",
    "    #slope beta1\n",
    "    beta1 = betas[1]\n",
    "\n",
    "    return beta0, beta1"
   ]
  },
  {
   "cell_type": "code",
   "execution_count": 11,
   "metadata": {},
   "outputs": [],
   "source": [
    "x_foo = np.array([1, 2, 3])\n",
    "y_foo = np.array([2, 2, 4])\n",
    "fit = simple_linear_regression_fit(x_foo, y_foo)"
=======
    "    \n",
    "    return\n",
    "    \n",
    "    "
>>>>>>> ab0a4b8b2c99223b3553b7f290763493f03bc040
   ]
  },
  {
   "cell_type": "markdown",
   "metadata": {},
   "source": [
    "> **EXERCISE:** Plot the training data.  Do the values of `beta0` and `beta1` seem reasonable?\n",
    "\n",
    ">Now write a lambda function `f` for the best fit line with `beta0` and `beta1`, and plot the best fit line together with the training data."
   ]
  },
  {
   "cell_type": "code",
   "execution_count": 17,
   "metadata": {},
   "outputs": [
    {
     "name": "stdout",
     "output_type": "stream",
     "text": [
      "[ 0.66666667] [ 1.]\n",
      "[ 1.66666667  2.66666667  3.66666667]\n"
     ]
    },
    {
     "data": {
      "text/plain": [
       "[<matplotlib.lines.Line2D at 0x11c15fcf8>]"
      ]
     },
     "execution_count": 17,
     "metadata": {},
     "output_type": "execute_result"
    },
    {
     "data": {
      "image/png": "iVBORw0KGgoAAAANSUhEUgAAAXIAAAD3CAYAAAAALt/WAAAABHNCSVQICAgIfAhkiAAAAAlwSFlz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\nRMTjFOQiIh6nIBcR8TgFuYiIx/1/g7noMb8Q/B4AAAAASUVORK5CYII=\n",
      "text/plain": [
       "<matplotlib.figure.Figure at 0x11ba79e48>"
      ]
     },
     "metadata": {},
     "output_type": "display_data"
    }
   ],
   "source": [
<<<<<<< HEAD
    "#your code here\n",
    "beta0 = fit[0]\n",
    "beta1 = fit[1]\n",
    "fit_line = beta1 * x_foo + beta0\n",
    "print(beta0, beta1)\n",
    "print(fit_line)\n",
    "\n",
    "ax = plt.gca()\n",
    "ax.scatter(x_foo, y_foo)\n",
    "ax.plot(x_foo, fit_line)"
=======
    "#your code here\n"
>>>>>>> ab0a4b8b2c99223b3553b7f290763493f03bc040
   ]
  },
  {
   "cell_type": "markdown",
   "metadata": {},
   "source": [
    "### Building a model with statsmodel and sklearn [10 minutes]\n",
    "\n",
    "Now that we can concretely fit the training data from scratch, let's learn two Python packages to do it all for us: [statsmodels](http://www.statsmodels.org/stable/regression.html) and [scikit-learn (sklearn)](http://scikit-learn.org/stable/modules/generated/sklearn.linear_model.LinearRegression.html).  Our goal  is to show how to implement simple linear regression with these packages.  For an important sanity check, we compare the $\\beta$ values from statsmodel and sklearn to the $\\beta$ values that we found from above from scratch.\n",
    "\n",
    "For the purposes of this lab, statsmodels and sklearn do the same thing.  More generally though, statsmodels tends to be easier for inference, whereas sklearn has machine-learning algorithms and is better for prediction.  "
   ]
  },
  {
   "cell_type": "markdown",
   "metadata": {},
   "source": [
    "Below is the code for statsmodels.  Statsmodels does not by default include the column of ones in the $X$ matrix, so we include it with `sm.add_constant`."
   ]
  },
  {
   "cell_type": "code",
   "execution_count": null,
   "metadata": {
    "collapsed": true
   },
   "outputs": [],
   "source": [
    "#create the X matrix by appending a column of ones to x_train\n",
    "X = sm.add_constant(x_train)\n",
    "#this is the same matrix as in our scratch problem!\n",
    "print(X)\n",
    "#build the OLS model (ordinary least squares) from the training data\n",
    "toyregr_sm = sm.OLS(y_train, X)\n",
    "#save regression info (parameters, etc) in results_sm\n",
    "results_sm = toyregr_sm.fit()\n",
    "#pull the beta parameters out from results_sm\n",
    "beta0_sm = results_sm.params[0]\n",
    "beta1_sm = results_sm.params[1]\n",
    "\n",
    "print(\"(beta0, beta1) = (%f, %f)\" %(beta0_sm, beta1_sm))"
   ]
  },
  {
   "cell_type": "markdown",
   "metadata": {},
   "source": [
    "Besides the beta parameters, `results_sm` contains a ton of other potentially useful information.  Type `results_sm` and hit tab to see."
   ]
  },
  {
   "cell_type": "markdown",
   "metadata": {},
   "source": [
    "Below is the code for sklearn."
   ]
  },
  {
   "cell_type": "code",
   "execution_count": null,
   "metadata": {
    "collapsed": true
   },
   "outputs": [],
   "source": [
    "#build the least squares model\n",
    "toyregr_skl = linear_model.LinearRegression()\n",
    "#save regression info (parameters, etc) in results_skl\n",
    "results_skl = toyregr_skl.fit(x_train,y_train)\n",
    "#pull the beta parameters out from results_skl\n",
    "beta0_skl = toyregr_skl.intercept_\n",
    "beta1_skl = toyregr_skl.coef_[0]\n",
    "\n",
    "print(\"(beta0, beta1) = (%f, %f)\" %(beta0_skl, beta1_skl))"
   ]
  },
  {
   "cell_type": "markdown",
   "metadata": {},
   "source": [
    "We should feel pretty good about ourselves now, and we're ready to move on to a real problem!"
   ]
  },
  {
   "cell_type": "markdown",
   "metadata": {},
   "source": [
    "## Part 2: Simple linear regression with automobile data [30 minutes]\n",
    "We will now use sklearn to to predict automobile milesage per gallon (mpg) and evaluate these predictions. We first load the data and split them into a training set and a testing set."
   ]
  },
  {
   "cell_type": "code",
   "execution_count": null,
   "metadata": {
    "collapsed": true
   },
   "outputs": [],
   "source": [
    "#load mtcars\n",
    "dfcars=pd.read_csv(\"data/mtcars.csv\")\n",
    "dfcars=dfcars.rename(columns={\"Unnamed: 0\":\"name\"})\n",
    "dfcars.head()"
   ]
  },
  {
   "cell_type": "code",
   "execution_count": null,
   "metadata": {
    "collapsed": true
   },
   "outputs": [],
   "source": [
    "#split into training set and testing set\n",
    "from sklearn.cross_validation import train_test_split\n",
    "#set random_state to get the same split every time\n",
    "traindf, testdf = train_test_split(dfcars, test_size=0.3, random_state=6)"
   ]
  },
  {
   "cell_type": "code",
   "execution_count": null,
   "metadata": {
    "collapsed": true
   },
   "outputs": [],
   "source": [
    "#testing set is ~30% of the total data; training set is ~70%\n",
    "dfcars.shape, traindf.shape, testdf.shape"
   ]
  },
  {
   "cell_type": "markdown",
   "metadata": {},
   "source": [
    "We need to choose the variables that we think will be good predictors for the dependent variable `mpg`. \n",
    "\n",
    ">**EXERCISE:**  Pick one variable to use as a predictor for simple linear regression.  Create a markdown cell below and discuss your reasons.  You may want to justify this with some visualizations.  Is there a second variable you'd like to use as well, say for multiple linear regression with two predictors?"
   ]
  },
  {
   "cell_type": "code",
   "execution_count": null,
   "metadata": {
    "collapsed": true
   },
   "outputs": [],
   "source": [
    "#your code (if any) here"
   ]
  },
  {
   "cell_type": "markdown",
   "metadata": {},
   "source": [
    "> **EXERCISE:** With either sklearn or statsmodels, fit the training data using simple linear regression.  Use the model to make mpg predictions on testing set.  \n",
    "\n",
    "> Plot the data and the prediction.  \n",
    "\n",
    ">Print out the mean squared error for the training set and the testing set and compare."
   ]
  },
  {
   "cell_type": "code",
   "execution_count": null,
   "metadata": {
    "collapsed": true
   },
   "outputs": [],
   "source": [
    "#your code here\n",
    "#define  predictor and response for training set\n",
    "\n",
    "\n",
    "# define predictor and response for testing set\n"
   ]
  },
  {
   "cell_type": "code",
   "execution_count": null,
   "metadata": {
    "collapsed": true
   },
   "outputs": [],
   "source": [
    "#your code here\n",
    "# create linear regression object with sklearn\n",
    "\n",
    "\n",
    "#your code here\n",
    "# train the model and make predictions\n",
    "\n",
    "\n",
    "#your code here\n",
    "#print out coefficients\n",
    "\n"
   ]
  },
  {
   "cell_type": "code",
   "execution_count": null,
   "metadata": {
    "collapsed": true
   },
   "outputs": [],
   "source": [
    "# your code here\n",
    "# Plot outputs\n"
   ]
  },
  {
   "cell_type": "markdown",
   "metadata": {},
   "source": [
    "## Part 3: Multiple linear regression with automobile data [15 minutes]"
   ]
  },
  {
   "cell_type": "markdown",
   "metadata": {},
   "source": [
    "> **EXERCISE:** With either sklearn or statsmodels, fit the training data using multiple linear regression with two predictors.  Use the model to make mpg predictions on testing set.  Print out the mean squared error for the training set and the testing set and compare.  \n",
    "\n",
    ">How do these training and testing mean squared errors compare to those from the simple linear regression?\n",
    "\n",
    ">Time permitting, repeat the training and testing with three predictors and calculate the mean squared errors.  How do these compare to the errors from the one and two predictor models?"
   ]
  },
  {
   "cell_type": "code",
   "execution_count": null,
   "metadata": {
    "collapsed": true
   },
   "outputs": [],
   "source": [
    "#your code here\n"
   ]
  },
  {
   "cell_type": "markdown",
   "metadata": {
    "collapsed": true
   },
   "source": [
    "## Part 4: Interpreting results [5 minutes / remaining time]\n",
    "Tell a story with your results.  "
   ]
  },
  {
   "cell_type": "code",
   "execution_count": null,
   "metadata": {
    "collapsed": true
   },
   "outputs": [],
   "source": []
  }
 ],
 "metadata": {
  "anaconda-cloud": {},
  "kernelspec": {
   "display_name": "Python 3",
   "language": "python",
   "name": "python3"
  },
  "language_info": {
   "codemirror_mode": {
    "name": "ipython",
    "version": 3
   },
   "file_extension": ".py",
   "mimetype": "text/x-python",
   "name": "python",
   "nbconvert_exporter": "python",
   "pygments_lexer": "ipython3",
   "version": "3.6.1"
  }
 },
 "nbformat": 4,
 "nbformat_minor": 1
}
